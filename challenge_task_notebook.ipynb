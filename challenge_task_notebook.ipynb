{
  "nbformat": 4,
  "nbformat_minor": 0,
  "metadata": {
    "colab": {
      "provenance": []
    },
    "kernelspec": {
      "name": "python3",
      "display_name": "Python 3"
    },
    "language_info": {
      "name": "python"
    }
  },
  "cells": [
    {
      "cell_type": "markdown",
      "source": [
        "# Welcome to the challenge task\n",
        "\n",
        "You have been hired by a 40-year-old news company called FF-NEWS. They have provided you with a list of their news headlines from March 2004. They are seeking 10 headlines from their newspaper specifically related to `climate change and global warming`.\n",
        "\n",
        "As an AI Engineer, your task is to utilize the OpenAI text embedding model to identify 10 headlines about climate change and global warming from their archive.\n",
        "\n",
        "Good luck!🍀\n",
        "\n",
        "-Ahmad"
      ],
      "metadata": {
        "id": "q082WDnkLcGY"
      }
    },
    {
      "cell_type": "markdown",
      "source": [
        "----\n",
        "Run the following block to set up the OpenAI API and import the necessary modules.\n",
        "\n",
        "**Do not forget to upload your apikey.env file into the Google Colab environment.**"
      ],
      "metadata": {
        "id": "eWZZxR7uVPw1"
      }
    },
    {
      "cell_type": "code",
      "source": [
        "!pip install openai python-dotenv\n",
        "\n",
        "import pandas as pd\n",
        "import os\n",
        "from openai import OpenAI\n",
        "from dotenv import load_dotenv\n",
        "import plotly.express as px\n",
        "import seaborn as sns\n",
        "import matplotlib.pyplot as plt\n",
        "import numpy as np\n",
        "from sklearn.metrics.pairwise import cosine_similarity\n",
        "\n",
        "# Loading API key and organization ID from a dotenv file\n",
        "load_dotenv(dotenv_path='apikey.env.txt')\n",
        "\n",
        "# Retrieving API key and organization ID from environment variables\n",
        "APIKEY = os.getenv(\"APIKEY\")\n",
        "ORGID = os.getenv(\"ORGID\")\n",
        "\n",
        "# Creating an instance of the OpenAI client with the provided API key and organization ID\n",
        "client = OpenAI(\n",
        "  organization= ORGID,\n",
        "  api_key=APIKEY\n",
        ")\n",
        "\n",
        "client"
      ],
      "metadata": {
        "id": "scn7mBZ6J_xW"
      },
      "execution_count": null,
      "outputs": []
    },
    {
      "cell_type": "markdown",
      "source": [
        "Here is the list of news headlines"
      ],
      "metadata": {
        "id": "nkVUW9l-RPFY"
      }
    },
    {
      "cell_type": "code",
      "source": [
        "headlines = [\n",
        "    \"Political leaders convene for summit on climate change\",\n",
        "    \"New breakthrough in renewable energy technology announced\",\n",
        "    \"Global warming activists rally in major cities worldwide\",\n",
        "    \"Sports teams unite to raise awareness about climate crisis\",\n",
        "    \"Government announces new policy to combat climate change\",\n",
        "    \"Tech giant unveils revolutionary AI-powered gadget\",\n",
        "    \"Climate scientists warn of irreversible damage to the planet\",\n",
        "    \"Political turmoil grips nation as elections approach\",\n",
        "    \"Athletes advocate for environmental conservation efforts\",\n",
        "    \"Tech startups compete for funding in Silicon Valley\",\n",
        "    \"Rising temperatures threaten biodiversity, experts warn\",\n",
        "    \"Sports championship marred by controversy over doping allegations\",\n",
        "    \"New legislation aims to reduce carbon emissions\",\n",
        "    \"Tech company announces plans for expansion into new markets\",\n",
        "    \"Global warming effects felt in Arctic region, scientists say\",\n",
        "    \"Political leaders clash over proposed climate change regulations\",\n",
        "    \"Team achieves victory in sporting event despite odds\",\n",
        "    \"Breakthrough in renewable energy research promises brighter future\",\n",
        "    \"Climate summit ends with pledges for carbon neutrality\",\n",
        "    \"Athlete breaks world record in thrilling sporting event\",\n",
        "    \"Tech industry faces criticism over data privacy concerns\",\n",
        "    \"Government launches initiative to promote green technology\",\n",
        "    \"Climate change impacts highlighted in new scientific report\",\n",
        "    \"Political scandal rocks nation's capital\",\n",
        "    \"Sports star announces retirement after illustrious career\",\n",
        "    \"Tech company introduces innovative solution to environmental challenges\",\n",
        "    \"Global warming exacerbates natural disasters, experts warn\",\n",
        "    \"Political candidates debate strategies to address climate crisis\",\n",
        "    \"Sports league adopts sustainability measures to reduce carbon footprint\",\n",
        "    \"Tech expo showcases latest advancements in artificial intelligence\",\n",
        "    \"Climate activists stage protest outside government buildings\",\n",
        "    \"Political leaders vow to prioritize climate change action\",\n",
        "    \"Athlete overcomes injury to win gold medal\",\n",
        "    \"Tech company partners with environmental organizations for conservation projects\",\n",
        "    \"Global warming threatens food security, scientists caution\",\n",
        "    \"Political campaign focuses on environmental policies\",\n",
        "    \"Sports event canceled due to extreme weather conditions\",\n",
        "    \"Tech startup revolutionizes transportation industry with electric vehicles\",\n",
        "    \"Climate change summit attracts attention from around the world\",\n",
        "    \"Political unrest leads to protests in major cities\",\n",
        "    \"Sports team celebrates victory with championship parade\",\n",
        "    \"Tech industry grapples with cybersecurity challenges\",\n",
        "    \"Global warming impacts discussed at international conference\",\n",
        "    \"Political leaders face scrutiny over handling of climate crisis\",\n",
        "    \"Athlete honored with prestigious award for sportsmanship\",\n",
        "    \"Tech conference explores the future of artificial intelligence\",\n",
        "    \"Climate activists demand immediate action from world leaders\",\n",
        "    \"Political debate intensifies ahead of election day\",\n",
        "    \"Sports fans rally behind team in championship match\",\n",
        "    \"Tech company accused of monopolistic practices\",\n",
        "    \"Global warming solutions proposed at climate change forum\",\n",
        "    \"Political summit focuses on diplomatic relations\",\n",
        "    \"Athlete achieves personal best in sporting competition\",\n",
        "    \"Tech industry leaders testify before congressional committee\",\n",
        "    \"Climate change effects seen in rising sea levels, researchers find\",\n",
        "    \"Political parties clash over environmental policies\",\n",
        "    \"Sports league implements measures to promote diversity and inclusion\",\n",
        "    \"Tech startup secures funding for groundbreaking project\",\n",
        "    \"Global warming awareness campaign gains momentum\",\n",
        "    \"Political leaders spar over economic policies\",\n",
        "    \"Athlete inspires youth through community outreach programs\",\n",
        "    \"Tech company launches new product to improve quality of life\",\n",
        "    \"Climate change activists call for divestment from fossil fuels\",\n",
        "    \"Political commentator discusses implications of recent events\",\n",
        "    \"Sports tournament draws record-breaking viewership\",\n",
        "    \"Tech industry grapples with ethical dilemmas of AI\",\n",
        "    \"Global warming impact on wildlife habitats documented in new study\",\n",
        "    \"Political rally attracts thousands of supporters\",\n",
        "    \"Athlete makes comeback after overcoming adversity\",\n",
        "    \"Tech conference showcases cutting-edge innovations\",\n",
        "    \"Climate change legislation faces opposition in parliament\",\n",
        "    \"Political upheaval leads to government reshuffle\",\n",
        "    \"Sports team embarks on goodwill tour to promote peace\",\n",
        "    \"Tech company releases annual sustainability report\",\n",
        "    \"Global warming awareness raised through art and music festival\",\n",
        "    \"Political campaign enters final stretch with heated debates\",\n",
        "    \"Athlete named ambassador for youth sports program\",\n",
        "    \"Tech industry leaders meet to discuss future trends\",\n",
        "    \"Climate change protesters disrupt international summit\",\n",
        "    \"Political scandal unfolds with leaked documents\",\n",
        "    \"Sports star launches foundation to support underprivileged youth\",\n",
        "    \"Tech startup awarded for innovation in environmental sustainability\",\n",
        "    \"Global warming impact on agriculture highlighted in report\",\n",
        "    \"Political leaders negotiate international trade agreements\",\n",
        "    \"Athlete honored with induction into Hall of Fame\",\n",
        "    \"Tech company invests in renewable energy research\",\n",
        "    \"Climate change task force formed to address urgent issues\",\n",
        "    \"Political tensions escalate in region, raising concerns\",\n",
        "    \"Sports organization partners with charity for humanitarian efforts\",\n",
        "    \"Tech expo features demonstrations of virtual reality technology\",\n",
        "    \"Global warming debate intensifies with new scientific findings\",\n",
        "    \"Political campaign focuses on grassroots activism\",\n",
        "    \"Athlete advocates for gender equality in sports\",\n",
        "    \"Tech industry pioneers explore potential of blockchain technology\",\n",
        "    \"Climate change summit results in historic agreement\",\n",
        "    \"Political leaders reach compromise on controversial legislation\",\n",
        "    \"Sports team wins championship with dramatic final play\",\n",
        "    \"Tech company launches initiative to bridge digital divide\",\n",
        "    \"Global warming effects observed in changing weather patterns\",\n",
        "    \"Political candidates engage voters in town hall meetings\",\n",
        "    \"Athlete inspires next generation through mentorship program\",\n",
        "    \"Tech conference showcases breakthroughs in quantum computing\",\n",
        "    \"Climate change action plan receives bipartisan support\",\n",
        "    \"Political movement gains momentum with widespread support\",\n",
        "    \"Sports star honored with prestigious sportsmanship award\",\n",
        "    \"Tech industry leaders advocate for diversity and inclusion initiatives\",\n",
        "    \"Global warming impact on coastal communities examined in documentary\",\n",
        "    \"Political summit addresses refugee crisis and humanitarian aid\",\n",
        "    \"Athlete donates winnings to charity for children's education\",\n",
        "    \"Tech startup disrupts industry with innovative business model\",\n",
        "    \"Climate change awareness campaign launches on social media\",\n",
        "    \"Political leaders engage in diplomatic talks to promote peace\",\n",
        "    \"Sports league implements strict anti-doping measures\",\n",
        "    \"Tech company pledges to reduce carbon footprint with sustainability initiatives\",\n",
        "    \"Global warming research expedition uncovers new insights\",\n",
        "    \"Political unrest sparks protests and civil unrest\",\n",
        "    \"Athlete breaks barriers as first in their sport\",\n",
        "    \"Tech industry leaders collaborate on open-source projects\",\n",
        "    \"Climate change documentary wins prestigious film award\",\n",
        "    \"Political candidates make final push in campaign rallies\",\n",
        "    \"Sports team celebrates victory with parade through city streets\",\n",
        "    \"Tech conference addresses cybersecurity threats and solutions\",\n",
        "    \"Global warming impact on indigenous communities addressed at UN summit\"\n",
        "]"
      ],
      "metadata": {
        "id": "tBs5gSZbS_GV"
      },
      "execution_count": null,
      "outputs": []
    },
    {
      "cell_type": "markdown",
      "source": [
        "Use `text-embedding-3-small` text embedding model to generate the embedding vectors with 256 dimensions of the headlines."
      ],
      "metadata": {
        "id": "Y12LZ4WmRUwy"
      }
    },
    {
      "cell_type": "code",
      "source": [],
      "metadata": {
        "id": "V-7ogGNnSgrR"
      },
      "execution_count": null,
      "outputs": []
    },
    {
      "cell_type": "markdown",
      "source": [
        "Extract the vector embeddings from the `response`"
      ],
      "metadata": {
        "id": "iwYU83wKW0M5"
      }
    },
    {
      "cell_type": "code",
      "source": [],
      "metadata": {
        "id": "0DHeunoSTRSG"
      },
      "execution_count": null,
      "outputs": []
    },
    {
      "cell_type": "markdown",
      "source": [
        "Use the embedding model to generate a 256-dimensional embedding vector related to the phrase: `\"global warming and climate change\"`. then extract the embedding vector from the openAI response and store it into a variable called `search_vector`"
      ],
      "metadata": {
        "id": "HBUZ8nC2YP38"
      }
    },
    {
      "cell_type": "code",
      "source": [],
      "metadata": {
        "id": "HoyviLZrZ-X3"
      },
      "execution_count": null,
      "outputs": []
    },
    {
      "cell_type": "markdown",
      "source": [
        "Now create a dataframe containing the news headlines and their corresponding 256-dimensional vectors. Your dataframe should have two columns: `vectors` and `headlines`."
      ],
      "metadata": {
        "id": "Hf4V00CrbdPz"
      }
    },
    {
      "cell_type": "code",
      "source": [],
      "metadata": {
        "id": "fx_GLUrDaSFX"
      },
      "execution_count": null,
      "outputs": []
    },
    {
      "cell_type": "markdown",
      "source": [
        "Use the `cosine similarity` measure to calculate the similarity between the `search_phrase_vector` and each of the embedding vectors of the headlines.\n",
        "\n",
        "Write your code in a way that includes a new column in the dataframe called `similarity score`.\n"
      ],
      "metadata": {
        "id": "KJG25Og5b2R5"
      }
    },
    {
      "cell_type": "code",
      "source": [],
      "metadata": {
        "id": "DUjFbQmLc8qs"
      },
      "execution_count": null,
      "outputs": []
    },
    {
      "cell_type": "markdown",
      "source": [
        "Sort the dataframe by the `similarity score` column and find 10 headlines that are related to the search phrase."
      ],
      "metadata": {
        "id": "D-XEs2kLdefz"
      }
    },
    {
      "cell_type": "code",
      "source": [],
      "metadata": {
        "id": "hzaJWpDQdsq_"
      },
      "execution_count": null,
      "outputs": []
    }
  ]
}