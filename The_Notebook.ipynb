{
  "cells": [
    {
      "cell_type": "markdown",
      "metadata": {
        "id": "qBZ8SfttFrhN"
      },
      "source": [
        "# **Welcome to the notebook**"
      ]
    },
    {
      "cell_type": "markdown",
      "metadata": {
        "id": "Nipbl0JKx_kD"
      },
      "source": [
        "### Task 1 - Set up project environment"
      ]
    },
    {
      "cell_type": "markdown",
      "metadata": {
        "id": "G3vynbDOu1F6"
      },
      "source": [
        "Installing the needed modules"
      ]
    },
    {
      "cell_type": "code",
      "execution_count": null,
      "metadata": {
        "id": "scn7mBZ6J_xW"
      },
      "outputs": [],
      "source": [
        "!pip install openai==1.16.2 python-dotenv"
      ]
    },
    {
      "cell_type": "markdown",
      "metadata": {
        "id": "gnKLxjGIyL55"
      },
      "source": [
        "Importing the needed modules and setup the OpenAI API"
      ]
    },
    {
      "cell_type": "code",
      "execution_count": null,
      "metadata": {
        "id": "HBaE-1PXxoGg"
      },
      "outputs": [],
      "source": [
        "import pandas as pd\n",
        "import numpy as np\n",
        "import os\n",
        "from openai import OpenAI\n",
        "from dotenv import load_dotenv\n",
        "from matplotlib import pyplot as plt\n",
        "import plotly.express as px\n",
        "\n",
        "from sklearn.decomposition import PCA\n",
        "from sklearn.metrics.pairwise import cosine_similarity\n",
        "\n",
        "# Loading API key and organization ID from a dotenv file\n",
        "load_dotenv(dotenv_path='apikey.env.txt')\n",
        "\n",
        "# Retrieving API key and organization ID from environment variables\n",
        "APIKEY = os.getenv(\"APIKEY\")\n",
        "ORGID = os.getenv(\"ORGID\")\n",
        "\n",
        "# Creating an instance of the OpenAI client with the provided API key and organization ID\n",
        "client = OpenAI(\n",
        "  organization= ORGID,\n",
        "  api_key=APIKEY\n",
        ")\n",
        "\n",
        "client"
      ]
    },
    {
      "cell_type": "markdown",
      "metadata": {
        "id": "7HFz5j3JzQhB"
      },
      "source": [
        "Import our dataset"
      ]
    },
    {
      "cell_type": "code",
      "execution_count": null,
      "metadata": {
        "id": "GejnEtp12Sn4"
      },
      "outputs": [],
      "source": []
    },
    {
      "cell_type": "markdown",
      "metadata": {
        "id": "0RuUuM8EFb8e"
      },
      "source": [
        "List of last 8 products recently viewed by the user."
      ]
    },
    {
      "cell_type": "code",
      "execution_count": null,
      "metadata": {
        "id": "9vo1jI50FblR"
      },
      "outputs": [],
      "source": [
        "searched_products_id = [\n",
        "    'P1938',\n",
        "    'P1970',\n",
        "    'P1044',\n",
        "    'P1838',\n",
        "    'P1048',\n",
        "    'P1017',\n",
        "    'P1310',\n",
        "    'P1444',\n",
        "]"
      ]
    },
    {
      "cell_type": "markdown",
      "metadata": {
        "id": "_vm5Vfs9FqHa"
      },
      "source": [
        "### Task 2 - Prepare the dataset"
      ]
    },
    {
      "cell_type": "markdown",
      "metadata": {
        "id": "6cujUS99AEBT"
      },
      "source": [
        "Let's label the data points that are recently veiwed."
      ]
    },
    {
      "cell_type": "code",
      "execution_count": null,
      "metadata": {
        "id": "_Ihn4j1Z7_gF"
      },
      "outputs": [],
      "source": []
    },
    {
      "cell_type": "markdown",
      "metadata": {
        "id": "8b8QLwiTBTQH"
      },
      "source": [
        "Now let's combine the product `title` and `description` and store it into a column called `combined`."
      ]
    },
    {
      "cell_type": "code",
      "execution_count": null,
      "metadata": {
        "id": "cOQqMRL1xFX5"
      },
      "outputs": [],
      "source": []
    },
    {
      "cell_type": "markdown",
      "metadata": {
        "id": "xKAVjZ3oyD78"
      },
      "source": [
        "### Task 3 - Text embedding and visualization\n"
      ]
    },
    {
      "cell_type": "markdown",
      "metadata": {
        "id": "SbVisycQfDCp"
      },
      "source": [
        "Creating the text embedding vectors"
      ]
    },
    {
      "cell_type": "code",
      "execution_count": null,
      "metadata": {
        "id": "UloOiKOeJivN"
      },
      "outputs": [],
      "source": []
    },
    {
      "cell_type": "markdown",
      "metadata": {
        "id": "H52j7b8RE2EJ"
      },
      "source": [
        "> We know that each vector has 512 dimensions. In order to be able to visualize the vectors in a scatter plot, we need to use Principal Component Analysis (PCA) to reduce the dimension from 512 to 2."
      ]
    },
    {
      "cell_type": "code",
      "execution_count": null,
      "metadata": {
        "id": "BAHuFupGG-22"
      },
      "outputs": [],
      "source": []
    },
    {
      "cell_type": "markdown",
      "metadata": {
        "id": "KXfOLtnMCHHc"
      },
      "source": [
        "Now that we have the text embedding vectors in two dimensions, we can use them to create a 2D plot."
      ]
    },
    {
      "cell_type": "code",
      "execution_count": null,
      "metadata": {
        "id": "zrMC7v1xyhtz"
      },
      "outputs": [],
      "source": []
    },
    {
      "cell_type": "markdown",
      "metadata": {
        "id": "342_Laks_GMV"
      },
      "source": [
        "### Task 4 - Find similar products"
      ]
    },
    {
      "cell_type": "code",
      "execution_count": null,
      "metadata": {
        "id": "Pck8Qk5cGAcr"
      },
      "outputs": [],
      "source": []
    },
    {
      "cell_type": "markdown",
      "metadata": {
        "id": "0iqsToU4GNAj"
      },
      "source": [
        "Get the data related to `recently_viewed` and `not_viewed` products"
      ]
    },
    {
      "cell_type": "code",
      "execution_count": null,
      "metadata": {
        "id": "__T4po6yGA8x"
      },
      "outputs": [],
      "source": []
    },
    {
      "cell_type": "markdown",
      "metadata": {
        "id": "3Cy3RTDJGZWe"
      },
      "source": [
        "Convert the embedding vectors to Numpy arrays"
      ]
    },
    {
      "cell_type": "code",
      "execution_count": null,
      "metadata": {
        "id": "wn9YbjsFGcu2"
      },
      "outputs": [],
      "source": []
    },
    {
      "cell_type": "markdown",
      "metadata": {
        "id": "858_HPjSGhGO"
      },
      "source": [
        "Find the similarity between each viewed product and all the unviewed products."
      ]
    },
    {
      "cell_type": "code",
      "execution_count": null,
      "metadata": {
        "id": "iRBQZjwZHpzK"
      },
      "outputs": [],
      "source": []
    },
    {
      "cell_type": "markdown",
      "metadata": {
        "id": "Rjn3Van-EgT2"
      },
      "source": [
        "### Task 5 - Recommend products based on the searched products"
      ]
    },
    {
      "cell_type": "markdown",
      "metadata": {
        "id": "qHnFQD4GHosZ"
      },
      "source": [
        "Let's update the status of the top similar products to `recommended`."
      ]
    },
    {
      "cell_type": "code",
      "execution_count": null,
      "metadata": {
        "id": "O0Vi1yxgIEU-"
      },
      "outputs": [],
      "source": []
    },
    {
      "cell_type": "markdown",
      "metadata": {
        "id": "pIcQJBNffqDl"
      },
      "source": [
        "Let's visualize the recommended products."
      ]
    },
    {
      "cell_type": "code",
      "execution_count": null,
      "metadata": {
        "id": "pSr0XsfAHoW1"
      },
      "outputs": [],
      "source": []
    }
  ],
  "metadata": {
    "colab": {
      "collapsed_sections": [
        "_vm5Vfs9FqHa",
        "xKAVjZ3oyD78",
        "Rjn3Van-EgT2"
      ],
      "provenance": []
    },
    "kernelspec": {
      "display_name": "Python 3",
      "name": "python3"
    },
    "language_info": {
      "name": "python"
    }
  },
  "nbformat": 4,
  "nbformat_minor": 0
}
