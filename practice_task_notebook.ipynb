{
  "nbformat": 4,
  "nbformat_minor": 0,
  "metadata": {
    "colab": {
      "provenance": [],
      "collapsed_sections": [
        "q082WDnkLcGY"
      ]
    },
    "kernelspec": {
      "name": "python3",
      "display_name": "Python 3"
    },
    "language_info": {
      "name": "python"
    }
  },
  "cells": [
    {
      "cell_type": "markdown",
      "source": [
        "# Welcome to the practice task\n",
        "\n",
        "You've been recruited by FF-NEWS, a news company, which has provided a dataset containing the embedding vectors of 14 different news articles. They're interested in understanding how many distinct topics are represented in the dataset.\n",
        "\n",
        "Your assignment is to use `Principal Component Analysis (PCA)` to identify the number of topics present in the dataset.\n",
        "\n",
        "Good luck! 🍀\n",
        "\n",
        "-Ahmad\n"
      ],
      "metadata": {
        "id": "q082WDnkLcGY"
      }
    },
    {
      "cell_type": "markdown",
      "source": [
        "----\n",
        "Run the following block to import the necessary modules.\n",
        "\n",
        "**Do not forget to upload the `practice_task_data.csv` into the Google Colab environment.**"
      ],
      "metadata": {
        "id": "eWZZxR7uVPw1"
      }
    },
    {
      "cell_type": "code",
      "source": [
        "import pandas as pd\n",
        "import plotly.express as px\n",
        "import numpy as np\n",
        "from sklearn.decomposition import PCA"
      ],
      "metadata": {
        "id": "scn7mBZ6J_xW"
      },
      "execution_count": null,
      "outputs": []
    },
    {
      "cell_type": "markdown",
      "source": [
        "Let's load the dataset `practice_task_data.csv` into a pandas dataframe"
      ],
      "metadata": {
        "id": "nkVUW9l-RPFY"
      }
    },
    {
      "cell_type": "code",
      "source": [
        "data = pd.read_csv(\"practice_task_data.csv\")\n",
        "# converting the embedding vectors to lists\n",
        "data.embedding_vector = data.embedding_vector.apply(eval)\n",
        "data"
      ],
      "metadata": {
        "id": "tBs5gSZbS_GV"
      },
      "execution_count": null,
      "outputs": []
    },
    {
      "cell_type": "markdown",
      "source": [
        "How many dimensions are in the embedding vectors?"
      ],
      "metadata": {
        "id": "Y12LZ4WmRUwy"
      }
    },
    {
      "cell_type": "code",
      "source": [],
      "metadata": {
        "id": "V-7ogGNnSgrR"
      },
      "execution_count": null,
      "outputs": []
    },
    {
      "cell_type": "markdown",
      "source": [
        "> Use PCA to reduce the dimensionality of the embedding vectors to 2 dimensions. Then, store the two dimensions in a dataframe named `pca_df`, which includes three columns: `pc1 and pc2`."
      ],
      "metadata": {
        "id": "PzWEWVmYW7Sv"
      }
    },
    {
      "cell_type": "code",
      "source": [],
      "metadata": {
        "id": "09hycmOtW5qh"
      },
      "execution_count": null,
      "outputs": []
    },
    {
      "cell_type": "markdown",
      "source": [
        "use a 2D-scatter plot to visualize the `pc1` and `pc2`.\n",
        "\n",
        "How many clusters can you see in the plot?"
      ],
      "metadata": {
        "id": "NdsdKCNJXG4Z"
      }
    },
    {
      "cell_type": "code",
      "source": [],
      "metadata": {
        "id": "0dEG-0_GRp_O"
      },
      "execution_count": null,
      "outputs": []
    }
  ]
}